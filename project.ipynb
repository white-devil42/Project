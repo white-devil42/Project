{
 "cells": [
  {
   "cell_type": "code",
   "execution_count": 178,
   "metadata": {},
   "outputs": [],
   "source": [
    "#Importing Libraries\r\n",
    "import numpy as np\r\n",
    "import pandas as pd\r\n",
    "import pickle\r\n",
    "from sklearn.preprocessing import LabelEncoder\r\n",
    "from sklearn.ensemble import RandomForestClassifier\r\n",
    "from sklearn.linear_model import LogisticRegression\r\n",
    "from sklearn.model_selection import train_test_split\r\n",
    "from sklearn.svm import SVC\r\n",
    "from sklearn.tree import DecisionTreeClassifier"
   ]
  },
  {
   "cell_type": "code",
   "execution_count": 179,
   "metadata": {},
   "outputs": [],
   "source": [
    "df=pd.read_csv(\"titanic.csv\")\r\n",
    "\r\n",
    "#display(df['Cabin'].value_counts())"
   ]
  },
  {
   "cell_type": "code",
   "execution_count": 180,
   "metadata": {},
   "outputs": [],
   "source": [
    "df=df.drop([\"PassengerId\",'Name','Ticket', 'Cabin'], axis=1)"
   ]
  },
  {
   "cell_type": "code",
   "execution_count": 181,
   "metadata": {},
   "outputs": [
    {
     "name": "stdout",
     "output_type": "stream",
     "text": [
      "     Survived  Pclass     Sex   Age  SibSp  Parch     Fare Embarked\n",
      "0           0       3    male  22.0      1      0   7.2500        S\n",
      "1           1       1  female  38.0      1      0  71.2833        C\n",
      "2           1       3  female  26.0      0      0   7.9250        S\n",
      "3           1       1  female  35.0      1      0  53.1000        S\n",
      "4           0       3    male  35.0      0      0   8.0500        S\n",
      "..        ...     ...     ...   ...    ...    ...      ...      ...\n",
      "886         0       2    male  27.0      0      0  13.0000        S\n",
      "887         1       1  female  19.0      0      0  30.0000        S\n",
      "888         0       3  female   NaN      1      2  23.4500        S\n",
      "889         1       1    male  26.0      0      0  30.0000        C\n",
      "890         0       3    male  32.0      0      0   7.7500        Q\n",
      "\n",
      "[891 rows x 8 columns]\n"
     ]
    }
   ],
   "source": [
    "print(df)"
   ]
  },
  {
   "cell_type": "code",
   "execution_count": 182,
   "metadata": {},
   "outputs": [
    {
     "name": "stdout",
     "output_type": "stream",
     "text": [
      "Age         177\n",
      "Embarked      2\n",
      "dtype: int64\n"
     ]
    }
   ],
   "source": [
    "#Checking for null values\n",
    "null_columns=df.isnull().sum()\n",
    "print(null_columns[null_columns > 0])"
   ]
  },
  {
   "cell_type": "code",
   "execution_count": 183,
   "metadata": {},
   "outputs": [],
   "source": [
    "df=df.dropna(subset=['Age'])\r\n",
    "df[\"Age\"]=df[\"Age\"].astype(int)\r\n",
    "df[\"Fare\"]=df[\"Fare\"].astype(int)\r\n",
    "df.fillna(\"Unknown\", inplace = True)"
   ]
  },
  {
   "cell_type": "code",
   "execution_count": 184,
   "metadata": {},
   "outputs": [],
   "source": [
    "#encoding the numeric values\n",
    "#encoder= LabelEncoder()\n",
    "#df[\"Country/territory\"]=encoder.fit_transform(df[\"Country/territory\"])"
   ]
  },
  {
   "cell_type": "code",
   "execution_count": 185,
   "metadata": {},
   "outputs": [],
   "source": [
    "encoder= LabelEncoder()\r\n",
    "df[\"Sex\"]=encoder.fit_transform(df[\"Sex\"])\r\n",
    "df[\"Embarked\"]=encoder.fit_transform(df[\"Embarked\"])"
   ]
  },
  {
   "cell_type": "code",
   "execution_count": 186,
   "metadata": {},
   "outputs": [
    {
     "name": "stdout",
     "output_type": "stream",
     "text": [
      "     Pclass  Sex  Age  SibSp  Parch  Fare  Embarked\n",
      "0         3    1   22      1      0     7         2\n",
      "1         1    0   38      1      0    71         0\n",
      "2         3    0   26      0      0     7         2\n",
      "3         1    0   35      1      0    53         2\n",
      "4         3    1   35      0      0     8         2\n",
      "..      ...  ...  ...    ...    ...   ...       ...\n",
      "885       3    0   39      0      5    29         1\n",
      "886       2    1   27      0      0    13         2\n",
      "887       1    0   19      0      0    30         2\n",
      "889       1    1   26      0      0    30         0\n",
      "890       3    1   32      0      0     7         1\n",
      "\n",
      "[714 rows x 7 columns] 0      0\n",
      "1      1\n",
      "2      1\n",
      "3      1\n",
      "4      0\n",
      "      ..\n",
      "885    0\n",
      "886    0\n",
      "887    1\n",
      "889    1\n",
      "890    0\n",
      "Name: Survived, Length: 714, dtype: int64\n"
     ]
    }
   ],
   "source": [
    "X= df.drop('Survived', axis=1)\r\n",
    "Y=df['Survived']\r\n",
    "#Y=Y.astype(int)\r\n",
    "print(X,Y)"
   ]
  },
  {
   "cell_type": "code",
   "execution_count": 187,
   "metadata": {},
   "outputs": [],
   "source": [
    "#Splitting the data into training and testing data\r\n",
    "X_train, X_test, y_train, y_test = train_test_split(X, Y,test_size=0.2)\r\n"
   ]
  },
  {
   "cell_type": "code",
   "execution_count": 188,
   "metadata": {},
   "outputs": [
    {
     "name": "stdout",
     "output_type": "stream",
     "text": [
      "Accuracy of Logistic Regression Classifier on test set: 0.8461538461538461\n",
      "Accuracy of Decision Tree Classifier on test set: 0.7482517482517482\n",
      "Accuracy of SVM Classifier on test set: 0.6853146853146853\n",
      "Accuracy of Random Forest Classifier on test set: 0.7762237762237763\n",
      "[0 1 0 0 0 1 0 1 1 0 1 0 1 0 1 1 1 0 1 0 0 1 1 0 0 0 0 1 0 1 0 0 0 1 1 0 0\n",
      " 1 0 0 1 0 0 0 0 0 1 0 0 0 1 0 0 1 0 0 1 0 1 1 0 0 1 1 0 1 0 1 0 1 0 1 0 1\n",
      " 1 0 1 0 1 0 0 0 1 0 1 0 0 0 1 1 0 1 1 0 1 0 0 0 0 0 1 1 1 1 0 0 0 1 0 0 0\n",
      " 0 0 0 0 0 1 0 0 1 0 1 0 0 1 0 0 0 0 0 1 1 0 0 0 1 0 0 1 0 0 0 0]\n",
      "775    0\n",
      "539    1\n",
      "203    0\n",
      "249    0\n",
      "112    0\n",
      "      ..\n",
      "279    1\n",
      "833    0\n",
      "115    0\n",
      "212    0\n",
      "579    1\n",
      "Name: Survived, Length: 143, dtype: int64\n"
     ]
    }
   ],
   "source": [
    "#Logistic Regression\r\n",
    "logreg = LogisticRegression()\r\n",
    "logreg_model=logreg.fit(X_train, y_train)\r\n",
    "y_pred = logreg.predict(X_test)\r\n",
    "print('Accuracy of Logistic Regression Classifier on test set: {}'.format(logreg.score(X_test, y_test)))\r\n",
    "\r\n",
    "#Decision Tree Classifier\r\n",
    "dtree=DecisionTreeClassifier()\r\n",
    "dtree_model=dtree.fit(X_train,y_train)\r\n",
    "y_pred = dtree.predict(X_test)\r\n",
    "print('Accuracy of Decision Tree Classifier on test set: {}'.format(dtree.score(X_test, y_test)))\r\n",
    "\r\n",
    "#SVM\r\n",
    "svm=SVC()\r\n",
    "svm_model=svm.fit(X_train,y_train)\r\n",
    "y_pred = svm.predict(X_test)\r\n",
    "print('Accuracy of SVM Classifier on test set: {}'.format(svm.score(X_test, y_test)))\r\n",
    "\r\n",
    "#Random Forest Classifier\r\n",
    "randomForest= RandomForestClassifier()\r\n",
    "rf_model=randomForest.fit(X_train,y_train)\r\n",
    "y_pred = randomForest.predict(X_test)\r\n",
    "print('Accuracy of Random Forest Classifier on test set: {}'.format(randomForest.score(X_test, y_test)))\r\n",
    "print(y_pred)\r\n",
    "print(y_test)"
   ]
  },
  {
   "cell_type": "code",
   "execution_count": 189,
   "metadata": {},
   "outputs": [],
   "source": [
    "pickle_file = open(\"log.pkl\",\"wb\")\r\n",
    "pickle.dump(logreg_model, pickle_file)\r\n",
    "pickle_file.close()\r\n",
    "\r\n",
    "pickle_file = open(\"svm.pkl\",\"wb\")\r\n",
    "pickle.dump(svm_model, pickle_file)\r\n",
    "pickle_file.close()\r\n",
    "\r\n",
    "pickle_file = open(\"dtree.pkl\",\"wb\")\r\n",
    "pickle.dump(dtree_model, pickle_file)\r\n",
    "pickle_file.close()\r\n",
    "\r\n",
    "pickle_file = open(\"rf.pkl\",\"wb\")\r\n",
    "pickle.dump(rf_model, pickle_file)\r\n",
    "pickle_file.close()"
   ]
  }
 ],
 "metadata": {
  "interpreter": {
   "hash": "247ab06e135bb35fa78c5eff31b2a9a0050dcb5fb773c2631d2a29ac689eeccb"
  },
  "kernelspec": {
   "display_name": "Python 3.9.4 64-bit",
   "name": "python3"
  },
  "language_info": {
   "codemirror_mode": {
    "name": "ipython",
    "version": 3
   },
   "file_extension": ".py",
   "mimetype": "text/x-python",
   "name": "python",
   "nbconvert_exporter": "python",
   "pygments_lexer": "ipython3",
   "version": "3.9.4"
  },
  "orig_nbformat": 2
 },
 "nbformat": 4,
 "nbformat_minor": 2
}